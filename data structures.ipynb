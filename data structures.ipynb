{
 "cells": [
  {
   "cell_type": "code",
   "execution_count": 1,
   "id": "218c85e4",
   "metadata": {},
   "outputs": [],
   "source": [
    "#final project assignment data structures Katelyn Giles \n",
    "import geopandas as gpd"
   ]
  },
  {
   "cell_type": "code",
   "execution_count": 2,
   "id": "2850d028",
   "metadata": {},
   "outputs": [],
   "source": [
    "shelby= gpd.read_file(r\"C:\\Users\\brige\\Downloads\\Shelby.gdb\\Shelby.gdb\")"
   ]
  },
  {
   "cell_type": "code",
   "execution_count": 5,
   "id": "2923f35c",
   "metadata": {},
   "outputs": [
    {
     "data": {
      "text/html": [
       "<div>\n",
       "<style scoped>\n",
       "    .dataframe tbody tr th:only-of-type {\n",
       "        vertical-align: middle;\n",
       "    }\n",
       "\n",
       "    .dataframe tbody tr th {\n",
       "        vertical-align: top;\n",
       "    }\n",
       "\n",
       "    .dataframe thead th {\n",
       "        text-align: right;\n",
       "    }\n",
       "</style>\n",
       "<table border=\"1\" class=\"dataframe\">\n",
       "  <thead>\n",
       "    <tr style=\"text-align: right;\">\n",
       "      <th></th>\n",
       "      <th>Status</th>\n",
       "      <th>Score</th>\n",
       "      <th>Match_type</th>\n",
       "      <th>Side</th>\n",
       "      <th>Match_addr</th>\n",
       "      <th>ARC_Street</th>\n",
       "      <th>ARC_Zone</th>\n",
       "      <th>Community</th>\n",
       "      <th>Address</th>\n",
       "      <th>City</th>\n",
       "      <th>State</th>\n",
       "      <th>Zip_Codes</th>\n",
       "      <th>Sponsor</th>\n",
       "      <th>Contact_1</th>\n",
       "      <th>Contact_2</th>\n",
       "      <th>Contact_3</th>\n",
       "      <th>F10</th>\n",
       "      <th>geometry</th>\n",
       "    </tr>\n",
       "  </thead>\n",
       "  <tbody>\n",
       "    <tr>\n",
       "      <th>0</th>\n",
       "      <td>M</td>\n",
       "      <td>100</td>\n",
       "      <td>A</td>\n",
       "      <td>R</td>\n",
       "      <td>52 ANGELUS ST, 38104</td>\n",
       "      <td>52 Angelus St.</td>\n",
       "      <td>38104</td>\n",
       "      <td>Angelus Street</td>\n",
       "      <td>52 Angelus St.</td>\n",
       "      <td></td>\n",
       "      <td>Tennesee</td>\n",
       "      <td>38104.0</td>\n",
       "      <td></td>\n",
       "      <td>Dallas Holland 510-213-4534, dallasholland@gma...</td>\n",
       "      <td>Steve Kendrick stevereno1975@gmail.com</td>\n",
       "      <td>Andrew Elledge andrewmelledge1@gmail.com 901-4...</td>\n",
       "      <td></td>\n",
       "      <td>POINT (771003.881 317902.892)</td>\n",
       "    </tr>\n",
       "    <tr>\n",
       "      <th>1</th>\n",
       "      <td>M</td>\n",
       "      <td>100</td>\n",
       "      <td>A</td>\n",
       "      <td>R</td>\n",
       "      <td>3869 BARRON AVE, 38111</td>\n",
       "      <td>3869 Barron Avenue</td>\n",
       "      <td>38111</td>\n",
       "      <td>Barron Fellowship Garden</td>\n",
       "      <td>3869 Barron Avenue</td>\n",
       "      <td></td>\n",
       "      <td>Tennesee</td>\n",
       "      <td>38111.0</td>\n",
       "      <td></td>\n",
       "      <td>Teresa Perez                901-219-2401      ...</td>\n",
       "      <td>German Perez   3863 Barron Rd, 901-301-1849, g...</td>\n",
       "      <td></td>\n",
       "      <td>Brenda Somes\\nb.somes@yahoo.com\\nbsomes@bellso...</td>\n",
       "      <td>POINT (791976.653 301670.241)</td>\n",
       "    </tr>\n",
       "    <tr>\n",
       "      <th>2</th>\n",
       "      <td>M</td>\n",
       "      <td>100</td>\n",
       "      <td>A</td>\n",
       "      <td>R</td>\n",
       "      <td>22 N FRONT ST, 38103</td>\n",
       "      <td>22 North Front Street</td>\n",
       "      <td>38103</td>\n",
       "      <td>Bellevue</td>\n",
       "      <td>22 North Front Street</td>\n",
       "      <td></td>\n",
       "      <td>Tennesee</td>\n",
       "      <td>38103.0</td>\n",
       "      <td></td>\n",
       "      <td>Sonja Curri- 729-2931 sonja@mlfonline.org- Mem...</td>\n",
       "      <td></td>\n",
       "      <td></td>\n",
       "      <td></td>\n",
       "      <td>POINT (756844.407 320980.060)</td>\n",
       "    </tr>\n",
       "    <tr>\n",
       "      <th>3</th>\n",
       "      <td>M</td>\n",
       "      <td>100</td>\n",
       "      <td>A</td>\n",
       "      <td>R</td>\n",
       "      <td>2651 MIDLAND AVE, 38111</td>\n",
       "      <td>2651 Midland Avenue</td>\n",
       "      <td>38111</td>\n",
       "      <td>Beltline</td>\n",
       "      <td>2651 Midland Avenue</td>\n",
       "      <td></td>\n",
       "      <td>Tennesee</td>\n",
       "      <td>38111.0</td>\n",
       "      <td>Jacob’s Ladder CDC</td>\n",
       "      <td>Dock Britt\\n2673 Burns Ave.\\nMemphis, TN 38114...</td>\n",
       "      <td>Rev. Bill Marler\\n158 Marne\\nMemphis, TN 38111...</td>\n",
       "      <td></td>\n",
       "      <td></td>\n",
       "      <td>POINT (780490.687 310417.369)</td>\n",
       "    </tr>\n",
       "    <tr>\n",
       "      <th>4</th>\n",
       "      <td>M</td>\n",
       "      <td>100</td>\n",
       "      <td>A</td>\n",
       "      <td>R</td>\n",
       "      <td>1849 LABELLE ST, 38114</td>\n",
       "      <td>1849 Labelle St.</td>\n",
       "      <td>38114</td>\n",
       "      <td>Bethel GroveCommunity Organization</td>\n",
       "      <td>1849 Labelle St.</td>\n",
       "      <td></td>\n",
       "      <td>Tennesee</td>\n",
       "      <td>38114.0</td>\n",
       "      <td></td>\n",
       "      <td>Dock Britt\\n2673 Burns Ave.\\nMemphis, TN 38114...</td>\n",
       "      <td></td>\n",
       "      <td></td>\n",
       "      <td></td>\n",
       "      <td>POINT (779763.512 301346.270)</td>\n",
       "    </tr>\n",
       "  </tbody>\n",
       "</table>\n",
       "</div>"
      ],
      "text/plain": [
       "  Status  Score Match_type Side               Match_addr  \\\n",
       "0      M    100          A    R     52 ANGELUS ST, 38104   \n",
       "1      M    100          A    R   3869 BARRON AVE, 38111   \n",
       "2      M    100          A    R     22 N FRONT ST, 38103   \n",
       "3      M    100          A    R  2651 MIDLAND AVE, 38111   \n",
       "4      M    100          A    R   1849 LABELLE ST, 38114   \n",
       "\n",
       "              ARC_Street ARC_Zone                           Community  \\\n",
       "0         52 Angelus St.    38104                      Angelus Street   \n",
       "1     3869 Barron Avenue    38111            Barron Fellowship Garden   \n",
       "2  22 North Front Street    38103                            Bellevue   \n",
       "3    2651 Midland Avenue    38111                            Beltline   \n",
       "4       1849 Labelle St.    38114  Bethel GroveCommunity Organization   \n",
       "\n",
       "                 Address City     State  Zip_Codes             Sponsor  \\\n",
       "0         52 Angelus St.       Tennesee    38104.0                       \n",
       "1     3869 Barron Avenue       Tennesee    38111.0                       \n",
       "2  22 North Front Street       Tennesee    38103.0                       \n",
       "3    2651 Midland Avenue       Tennesee    38111.0  Jacob’s Ladder CDC   \n",
       "4       1849 Labelle St.       Tennesee    38114.0                       \n",
       "\n",
       "                                           Contact_1  \\\n",
       "0  Dallas Holland 510-213-4534, dallasholland@gma...   \n",
       "1  Teresa Perez                901-219-2401      ...   \n",
       "2  Sonja Curri- 729-2931 sonja@mlfonline.org- Mem...   \n",
       "3  Dock Britt\\n2673 Burns Ave.\\nMemphis, TN 38114...   \n",
       "4  Dock Britt\\n2673 Burns Ave.\\nMemphis, TN 38114...   \n",
       "\n",
       "                                           Contact_2  \\\n",
       "0             Steve Kendrick stevereno1975@gmail.com   \n",
       "1  German Perez   3863 Barron Rd, 901-301-1849, g...   \n",
       "2                                                      \n",
       "3  Rev. Bill Marler\\n158 Marne\\nMemphis, TN 38111...   \n",
       "4                                                      \n",
       "\n",
       "                                           Contact_3  \\\n",
       "0  Andrew Elledge andrewmelledge1@gmail.com 901-4...   \n",
       "1                                                      \n",
       "2                                                      \n",
       "3                                                      \n",
       "4                                                      \n",
       "\n",
       "                                                 F10  \\\n",
       "0                                                      \n",
       "1  Brenda Somes\\nb.somes@yahoo.com\\nbsomes@bellso...   \n",
       "2                                                      \n",
       "3                                                      \n",
       "4                                                      \n",
       "\n",
       "                        geometry  \n",
       "0  POINT (771003.881 317902.892)  \n",
       "1  POINT (791976.653 301670.241)  \n",
       "2  POINT (756844.407 320980.060)  \n",
       "3  POINT (780490.687 310417.369)  \n",
       "4  POINT (779763.512 301346.270)  "
      ]
     },
     "execution_count": 5,
     "metadata": {},
     "output_type": "execute_result"
    }
   ],
   "source": [
    "#opening attribute table for shelby.gdb\n",
    "shelby.head()"
   ]
  },
  {
   "cell_type": "code",
   "execution_count": 6,
   "id": "9814d58b",
   "metadata": {},
   "outputs": [
    {
     "data": {
      "text/plain": [
       "<AxesSubplot:>"
      ]
     },
     "execution_count": 6,
     "metadata": {},
     "output_type": "execute_result"
    },
    {
     "data": {
      "image/png": "[encoded data removed]",
      "text/plain": [
       "<Figure size 432x288 with 1 Axes>"
      ]
     },
     "metadata": {
      "needs_background": "light"
     },
     "output_type": "display_data"
    }
   ],
   "source": [
    "#plotting shelby.gdb file \n",
    "shelby.plot()"
   ]
  },
  {
   "cell_type": "code",
   "execution_count": 7,
   "id": "bf6b2674",
   "metadata": {},
   "outputs": [
    {
     "data": {
      "text/plain": [
       "'geometry'"
      ]
     },
     "execution_count": 7,
     "metadata": {},
     "output_type": "execute_result"
    }
   ],
   "source": [
    "#getting geometry name \n",
    "shelby.geometry.name"
   ]
  },
  {
   "cell_type": "code",
   "execution_count": 8,
   "id": "2548b3ff",
   "metadata": {},
   "outputs": [],
   "source": [
    "#rename to boarders\n",
    "shelby = shelby.rename(columns={'geometry': 'borders'}).set_geometry('borders')"
   ]
  },
  {
   "cell_type": "code",
   "execution_count": 9,
   "id": "639a9a4d",
   "metadata": {},
   "outputs": [
    {
     "data": {
      "text/plain": [
       "'borders'"
      ]
     },
     "execution_count": 9,
     "metadata": {},
     "output_type": "execute_result"
    }
   ],
   "source": [
    "shelby.geometry.name"
   ]
  },
  {
   "cell_type": "code",
   "execution_count": 10,
   "id": "881ecd73",
   "metadata": {},
   "outputs": [],
   "source": [
    "#making the centroid the geometry\n",
    "shelby['centroid_column'] = shelby.centroid"
   ]
  },
  {
   "cell_type": "code",
   "execution_count": 11,
   "id": "077325d3",
   "metadata": {},
   "outputs": [],
   "source": [
    "shelby = shelby.set_geometry('centroid_column')"
   ]
  },
  {
   "cell_type": "code",
   "execution_count": 12,
   "id": "02e5e2a5",
   "metadata": {},
   "outputs": [
    {
     "data": {
      "text/plain": [
       "<AxesSubplot:>"
      ]
     },
     "execution_count": 12,
     "metadata": {},
     "output_type": "execute_result"
    },
    {
     "data": {
      "image/png": "[encoded data removed]",
      "text/plain": [
       "<Figure size 432x288 with 1 Axes>"
      ]
     },
     "metadata": {
      "needs_background": "light"
     },
     "output_type": "display_data"
    }
   ],
   "source": [
    "shelby.plot()"
   ]
  },
  {
   "cell_type": "code",
   "execution_count": 14,
   "id": "79ad6c83",
   "metadata": {},
   "outputs": [
    {
     "data": {
      "text/plain": [
       "Options(\n",
       "  display_precision: None [default: None]\n",
       "      The precision (maximum number of decimals) of the coordinates in the\n",
       "      WKT representation in the Series/DataFrame display. By default (None),\n",
       "      it tries to infer and use 3 decimals for projected coordinates and 5\n",
       "      decimals for geographic coordinates.\n",
       "  use_pygeos: False [default: False]\n",
       "      Whether to use PyGEOS to speed up spatial operations. The default is\n",
       "      True if PyGEOS is installed, and follows the USE_PYGEOS environment\n",
       "      variable if set.\n",
       "  )"
      ]
     },
     "execution_count": 14,
     "metadata": {},
     "output_type": "execute_result"
    }
   ],
   "source": [
    "#looking at the display options\n",
    "gpd.options"
   ]
  },
  {
   "cell_type": "code",
   "execution_count": 15,
   "id": "1f493f68",
   "metadata": {},
   "outputs": [
    {
     "data": {
      "text/plain": [
       "0    POINT (771003.881 317902.892)\n",
       "1    POINT (791976.653 301670.241)\n",
       "2    POINT (756844.407 320980.060)\n",
       "3    POINT (780490.687 310417.369)\n",
       "4    POINT (779763.512 301346.270)\n",
       "Name: centroid_column, dtype: geometry"
      ]
     },
     "execution_count": 15,
     "metadata": {},
     "output_type": "execute_result"
    }
   ],
   "source": [
    "#displaying coordinates for each point in the shelby.gpd\n",
    "shelby['centroid_column'].head()"
   ]
  },
  {
   "cell_type": "code",
   "execution_count": 19,
   "id": "048d83a7",
   "metadata": {},
   "outputs": [],
   "source": [
    "#changing decimals for above line\n",
    "gpd.options.display_precision = 4"
   ]
  },
  {
   "cell_type": "code",
   "execution_count": 20,
   "id": "6964e825",
   "metadata": {},
   "outputs": [
    {
     "data": {
      "text/plain": [
       "0    POINT (771003.8806 317902.8922)\n",
       "1    POINT (791976.6529 301670.2405)\n",
       "2    POINT (756844.4070 320980.0597)\n",
       "3    POINT (780490.6865 310417.3691)\n",
       "4    POINT (779763.5124 301346.2697)\n",
       "Name: centroid_column, dtype: geometry"
      ]
     },
     "execution_count": 20,
     "metadata": {},
     "output_type": "execute_result"
    }
   ],
   "source": [
    "shelby['centroid_column'].head()"
   ]
  },
  {
   "cell_type": "code",
   "execution_count": 21,
   "id": "8a306029",
   "metadata": {},
   "outputs": [],
   "source": [
    "gpd.options.display_precision = 9"
   ]
  },
  {
   "cell_type": "code",
   "execution_count": 22,
   "id": "5e9c19dc",
   "metadata": {},
   "outputs": [
    {
     "data": {
      "text/plain": [
       "0    POINT (771003.880610466 317902.892170101)\n",
       "1    POINT (791976.652922288 301670.240511104)\n",
       "2    POINT (756844.406984359 320980.059709698)\n",
       "3    POINT (780490.686535820 310417.369076997)\n",
       "4    POINT (779763.512432754 301346.269687876)\n",
       "Name: centroid_column, dtype: geometry"
      ]
     },
     "execution_count": 22,
     "metadata": {},
     "output_type": "execute_result"
    }
   ],
   "source": [
    "shelby['centroid_column'].head()"
   ]
  },
  {
   "cell_type": "code",
   "execution_count": 26,
   "id": "ff8963d6",
   "metadata": {},
   "outputs": [
    {
     "ename": "SyntaxError",
     "evalue": "invalid syntax (Temp/ipykernel_22760/2961983714.py, line 1)",
     "output_type": "error",
     "traceback": [
      "\u001b[1;36m  File \u001b[1;32m\"C:\\Users\\brige\\AppData\\Local\\Temp/ipykernel_22760/2961983714.py\"\u001b[1;36m, line \u001b[1;32m1\u001b[0m\n\u001b[1;33m    echo \"# ADV-GIS\" >> README.md\u001b[0m\n\u001b[1;37m         ^\u001b[0m\n\u001b[1;31mSyntaxError\u001b[0m\u001b[1;31m:\u001b[0m invalid syntax\n"
     ]
    }
   ],
   "source": [
    "\n"
   ]
  },
  {
   "cell_type": "code",
   "execution_count": null,
   "id": "0b0c5536",
   "metadata": {},
   "outputs": [],
   "source": []
  }
 ],
 "metadata": {
  "kernelspec": {
   "display_name": "Python 3 (ipykernel)",
   "language": "python",
   "name": "python3"
  },
  "language_info": {
   "codemirror_mode": {
    "name": "ipython",
    "version": 3
   },
   "file_extension": ".py",
   "mimetype": "text/x-python",
   "name": "python",
   "nbconvert_exporter": "python",
   "pygments_lexer": "ipython3",
   "version": "3.9.7"
  }
 },
 "nbformat": 4,
 "nbformat_minor": 5
}
